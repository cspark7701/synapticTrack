{
 "cells": [
  {
   "cell_type": "markdown",
   "id": "6bcff693-53ea-4fad-81d8-2174284b97e5",
   "metadata": {},
   "source": [
    "# Examples for computing Twiss parameters"
   ]
  },
  {
   "cell_type": "code",
   "execution_count": 1,
   "id": "b6b40b8d-093d-4838-89eb-52fdf87bb14b",
   "metadata": {},
   "outputs": [],
   "source": [
    "from synaptictrack.beam import Twiss, BeamDataIO\n",
    "from synaptictrack.visualizations import *"
   ]
  },
  {
   "cell_type": "markdown",
   "id": "15fa39b9-b6ee-432e-a092-3f6eecfbdba2",
   "metadata": {},
   "source": [
    "### Load beam distribution data"
   ]
  },
  {
   "cell_type": "code",
   "execution_count": 3,
   "id": "094ed836-0dcd-41ef-9d83-46b46794e343",
   "metadata": {},
   "outputs": [
    {
     "name": "stdout",
     "output_type": "stream",
     "text": [
      "{'emittance': np.float64(12.97608472999245), 'alpha': np.float64(0.3478909304733574), 'beta': np.float64(1.1591415379851555), 'gamma': np.float64(0.9671192540077662)}\n",
      "{'emittance': np.float64(12.362026251027704), 'alpha': np.float64(0.6680767213237279), 'beta': np.float64(1.4076574770549386), 'gamma': np.float64(1.027470481384879)}\n",
      "{'emittance': np.float64(2.0982069992920863e-05), 'alpha': np.float64(0.012639617881774286), 'beta': np.float64(2414215.6635468956), 'gamma': np.float64(4.1427937654533796e-07)}\n"
     ]
    }
   ],
   "source": [
    "base_dir = '/home/cspark/Work/projects/orbit_correction/input_beam'\n",
    "filename = base_dir + '/' + 'coord.out'\n",
    "\n",
    "beam_io = BeamDataIO() \n",
    "beam = beam_io.read(code='track', filename=filename, mass_number=40, charge_state=8, beam_current=0)\n",
    "\n",
    "twiss = Twiss(beam)\n",
    "\n",
    "# View Twiss parameters\n",
    "print(twiss.values()['twiss_x'])\n",
    "print(twiss.values()['twiss_y'])\n",
    "print(twiss.values()['twiss_z'])"
   ]
  },
  {
   "cell_type": "code",
   "execution_count": 5,
   "id": "c3891262-b6e8-4ea0-821c-9498942c02a7",
   "metadata": {},
   "outputs": [
    {
     "data": {
      "text/plain": [
       "np.float64(12.97608472999245)"
      ]
     },
     "execution_count": 5,
     "metadata": {},
     "output_type": "execute_result"
    }
   ],
   "source": [
    "twiss.values()['twiss_x']['emittance']"
   ]
  },
  {
   "cell_type": "code",
   "execution_count": 8,
   "id": "0cd289ec-52d5-4633-b9f1-d712e63e7727",
   "metadata": {},
   "outputs": [
    {
     "data": {
      "text/plain": [
       "{'emittance': np.float64(12.97608472999245),\n",
       " 'alpha': np.float64(0.3478909304733574),\n",
       " 'beta': np.float64(1.1591415379851555),\n",
       " 'gamma': np.float64(0.9671192540077662)}"
      ]
     },
     "execution_count": 8,
     "metadata": {},
     "output_type": "execute_result"
    }
   ],
   "source": [
    "twiss.horizontal"
   ]
  },
  {
   "cell_type": "code",
   "execution_count": 9,
   "id": "e6c3601c-8bf0-408f-992a-64cf86954d39",
   "metadata": {},
   "outputs": [
    {
     "data": {
      "text/plain": [
       "np.float64(1.1591415379851555)"
      ]
     },
     "execution_count": 9,
     "metadata": {},
     "output_type": "execute_result"
    }
   ],
   "source": [
    "twiss.horizontal['beta']"
   ]
  },
  {
   "cell_type": "code",
   "execution_count": null,
   "id": "f8c169ab-601f-4be1-8620-915b97317f6b",
   "metadata": {},
   "outputs": [],
   "source": []
  }
 ],
 "metadata": {
  "kernelspec": {
   "display_name": "Python [conda env:synapticTRACK]",
   "language": "python",
   "name": "conda-env-synapticTRACK-py"
  },
  "language_info": {
   "codemirror_mode": {
    "name": "ipython",
    "version": 3
   },
   "file_extension": ".py",
   "mimetype": "text/x-python",
   "name": "python",
   "nbconvert_exporter": "python",
   "pygments_lexer": "ipython3",
   "version": "3.11.12"
  }
 },
 "nbformat": 4,
 "nbformat_minor": 5
}
