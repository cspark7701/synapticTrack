{
 "cells": [
  {
   "cell_type": "markdown",
   "id": "0",
   "metadata": {},
   "source": [
    "# Examples for plotting phase space distribution"
   ]
  },
  {
   "cell_type": "code",
   "execution_count": null,
   "id": "1",
   "metadata": {},
   "outputs": [],
   "source": [
    "from synapticTrack.beam import BeamDataIO\n",
    "from synapticTrack.visualizations import *"
   ]
  },
  {
   "cell_type": "markdown",
   "id": "2",
   "metadata": {},
   "source": [
    "### Load beam distribution data"
   ]
  },
  {
   "cell_type": "code",
   "execution_count": null,
   "id": "3",
   "metadata": {},
   "outputs": [],
   "source": [
    "base_dir = '../data/input_beam'\n",
    "filename = base_dir + '/' + 'coord.out'\n",
    "\n",
    "beam_io = BeamDataIO() \n",
    "beam = beam_io.read(code='track', filename=filename, mass_number=40, charge_state=8, beam_current=0)\n",
    "\n",
    "x  = beam.x\n",
    "xp = beam.xp\n",
    "y  = beam.y\n",
    "yp = beam.yp\n",
    "dt = beam.dt\n",
    "dW = beam.dW"
   ]
  },
  {
   "cell_type": "markdown",
   "id": "4",
   "metadata": {},
   "source": [
    "## Phasespace Distribution Plots\n",
    "\n",
    "Generates a phase space plot with projections.\n",
    "\n",
    "Args:\n",
    "\n",
    "    x (array-like): x-coordinates.\n",
    "    \n",
    "    xp (array-like): x' (divergence) coordinates.\n",
    "    \n",
    "    xyrange (list, optional): [xmin, xmax, ymin, ymax]. Defaults to [-10, 10, -10, 10].\n",
    "    \n",
    "    title (str, optional): Plot title. Defaults to None.\n",
    "    \n",
    "    nbins (int, optional): Number of bins for histograms. Defaults to 200.\n",
    "    \n",
    "    projection (int, optional) : places of projection plots (outside(0)or inside(1)) Default is outside.\n",
    "    \n",
    "    density (bool, optional): Use hist2d (True) or scatter (False). Defaults to True.\n",
    "    \n",
    "    cmap (str, optional): Colormap for hist2d. Defaults to 'viridis'.\n",
    "    \n",
    "    figname (str, optional): Filename to save the figure. Defaults to None."
   ]
  },
  {
   "cell_type": "markdown",
   "id": "5",
   "metadata": {},
   "source": [
    "### Horizontal Phasespace Distribution"
   ]
  },
  {
   "cell_type": "code",
   "execution_count": null,
   "id": "6",
   "metadata": {},
   "outputs": [],
   "source": [
    "phasespace_plot(x, xp, xyrange=[-20, 20, -20, 20], title='Horizontal Phasespace Distribution', \n",
    "                xlabel=r'$x$ [mm]', ylabel=r\"$x^{\\prime}$ [mrad]\",\n",
    "                nbins=100, projection=0, density=True, cmap='viridis', figname='hor.png')"
   ]
  },
  {
   "cell_type": "code",
   "execution_count": null,
   "id": "7",
   "metadata": {},
   "outputs": [],
   "source": [
    "phasespace_plot(x, xp, xyrange=[-20, 20, -20, 20], title='Horizontal Phasespace Distribution', \n",
    "                xlabel=r'$x$ [mm]', ylabel=r\"$x^{\\prime}$ [mrad]\",\n",
    "                nbins=100, projection=0, ellipse=True, density=True, cmap='viridis', figname=None)"
   ]
  },
  {
   "cell_type": "code",
   "execution_count": null,
   "id": "8",
   "metadata": {},
   "outputs": [],
   "source": [
    "plot_ellipse_from_twiss(x, xp)\n",
    "#plot_percentile_ellipse(x, xp, ax, percentile=0.99)"
   ]
  },
  {
   "cell_type": "markdown",
   "id": "9",
   "metadata": {},
   "source": [
    "### Vertical Phasespace Distribution"
   ]
  },
  {
   "cell_type": "code",
   "execution_count": null,
   "id": "10",
   "metadata": {},
   "outputs": [],
   "source": [
    "phasespace_plot(y, yp, xyrange=[-20, 20, -20, 20], title='Vertical Phasespace Distribution', xlabel=r'$y$ [mm]', ylabel=r\"$y^{\\prime}$ [mrad]\",\n",
    "                nbins=100, projection=5, density=True, cmap='viridis', figname=None)"
   ]
  },
  {
   "cell_type": "code",
   "execution_count": null,
   "id": "11",
   "metadata": {},
   "outputs": [],
   "source": [
    "phasespace_plot(y, yp, xyrange=[-20, 20, -20, 20], title='Vertical Phasespace Distribution', xlabel=r'$y$ [mm]', ylabel=r\"$y^{\\prime}$ [mrad]\",\n",
    "                nbins=100, projection=5, ellipse=True, density=True, cmap='viridis', figname='ver.png')"
   ]
  },
  {
   "cell_type": "markdown",
   "id": "12",
   "metadata": {},
   "source": [
    "### Longitudinal Phasespace Distribution"
   ]
  },
  {
   "cell_type": "code",
   "execution_count": null,
   "id": "13",
   "metadata": {},
   "outputs": [],
   "source": [
    "phasespace_plot(dt, dW*1e6, xyrange=[-20, 20, -10, 10], title='Longitudinal Phasespace Distribution', xlabel=r'$dt$ [sec]', ylabel=r\"$dW$ [eV/u]\",\n",
    "                nbins=100, projection=7, density=True, cmap='viridis', figname='long.png')"
   ]
  },
  {
   "cell_type": "code",
   "execution_count": null,
   "id": "14",
   "metadata": {},
   "outputs": [],
   "source": []
  }
 ],
 "metadata": {
  "kernelspec": {
   "display_name": "synapticTrack",
   "language": "python",
   "name": "synaptictrack"
  },
  "language_info": {
   "codemirror_mode": {
    "name": "ipython",
    "version": 3
   },
   "file_extension": ".py",
   "mimetype": "text/x-python",
   "name": "python",
   "nbconvert_exporter": "python",
   "pygments_lexer": "ipython3",
   "version": "3.13.5"
  }
 },
 "nbformat": 4,
 "nbformat_minor": 5
}
