{
 "cells": [
  {
   "cell_type": "markdown",
   "id": "0",
   "metadata": {},
   "source": [
    "# Examples for analyzing scanner data"
   ]
  },
  {
   "cell_type": "code",
   "execution_count": null,
   "id": "1",
   "metadata": {},
   "outputs": [],
   "source": [
    "from synapticTrack.beam import BeamDataIO\n",
    "from synapticTrack.analysis import *"
   ]
  },
  {
   "cell_type": "markdown",
   "id": "2",
   "metadata": {},
   "source": [
    "## Wire Scanner Data Analysis"
   ]
  },
  {
   "cell_type": "code",
   "execution_count": null,
   "id": "3",
   "metadata": {},
   "outputs": [],
   "source": [
    "beam_io = BeamDataIO()\n",
    "base_dir = '../data/scanner/2_exp_LEBT_WS'"
   ]
  },
  {
   "cell_type": "code",
   "execution_count": null,
   "id": "4",
   "metadata": {},
   "outputs": [],
   "source": [
    "filename1 = base_dir + '/' + 'ECR32-WS001-100717.txt'\n",
    "beamws1 = beam_io.read_scanner(scanner='wire', filename=filename1)\n",
    "print(beamws1.scan_id)\n",
    "print(beamws1.describe())\n",
    "beamws1.data"
   ]
  },
  {
   "cell_type": "code",
   "execution_count": null,
   "id": "5",
   "metadata": {},
   "outputs": [],
   "source": [
    "results1 = analyze_wire_scanner(beamws1, plot=True, filename=base_dir+'/WS01.png')\n",
    "print(results1)"
   ]
  },
  {
   "cell_type": "code",
   "execution_count": null,
   "id": "6",
   "metadata": {},
   "outputs": [],
   "source": [
    "filename2 = base_dir + '/' + 'LEBT-WS002-100523.txt'\n",
    "beamws2 = beam_io.read_scanner(scanner='wire', filename=filename2)\n",
    "print(beamws2.scan_id)\n",
    "print(beamws2.describe())\n",
    "beamws2.data"
   ]
  },
  {
   "cell_type": "code",
   "execution_count": null,
   "id": "7",
   "metadata": {},
   "outputs": [],
   "source": [
    "results2 = analyze_wire_scanner(beamws2, plot=True, filename=base_dir+'/WS02.png')\n",
    "print(results2)"
   ]
  },
  {
   "cell_type": "code",
   "execution_count": null,
   "id": "8",
   "metadata": {},
   "outputs": [],
   "source": [
    "filename3 = base_dir + '/' + 'LEBT-WS003-100325.txt'\n",
    "beamws3 = beam_io.read_scanner(scanner='wire', filename=filename3)\n",
    "print(beamws3.scan_id)\n",
    "print(beamws3.describe())\n",
    "beamws3.data"
   ]
  },
  {
   "cell_type": "code",
   "execution_count": null,
   "id": "9",
   "metadata": {},
   "outputs": [],
   "source": [
    "results3 = analyze_wire_scanner(beamws3, plot=True, filename=base_dir+'/WS03.png')\n",
    "print(results3)"
   ]
  },
  {
   "cell_type": "code",
   "execution_count": null,
   "id": "10",
   "metadata": {},
   "outputs": [],
   "source": [
    "filename4 = base_dir + '/' + 'LEBT-WS004-100044.txt'\n",
    "beamws4 = beam_io.read_scanner(scanner='wire', filename=filename4)\n",
    "print(beamws4.scan_id)\n",
    "print(beamws4.describe())\n",
    "beamws4.data"
   ]
  },
  {
   "cell_type": "code",
   "execution_count": null,
   "id": "11",
   "metadata": {},
   "outputs": [],
   "source": [
    "results4 = analyze_wire_scanner(beamws4, plot=True, filename=base_dir+'/WS04.png')\n",
    "print(results4)"
   ]
  },
  {
   "cell_type": "markdown",
   "id": "12",
   "metadata": {},
   "source": [
    "## Allison Scanner Data Analysis"
   ]
  },
  {
   "cell_type": "code",
   "execution_count": null,
   "id": "13",
   "metadata": {},
   "outputs": [],
   "source": [
    "beam_io = BeamDataIO()\n",
    "base_dir = '../data/scanner/3_exp_Allison'"
   ]
  },
  {
   "cell_type": "code",
   "execution_count": null,
   "id": "14",
   "metadata": {},
   "outputs": [],
   "source": [
    "filename5 = base_dir + '/' + '101614_X.txt'\n",
    "beamas1 = beam_io.read_scanner(scanner='allison', filename=filename5)\n",
    "print(beamas1.scan_id)\n",
    "print(beamas1.describe())\n",
    "beamas1.data"
   ]
  },
  {
   "cell_type": "code",
   "execution_count": null,
   "id": "15",
   "metadata": {},
   "outputs": [],
   "source": [
    "results5 = analyze_allison_scanner_2d(beamas1, bins=200, filename=base_dir+'/AS01.png')\n",
    "print(results5)"
   ]
  },
  {
   "cell_type": "code",
   "execution_count": null,
   "id": "16",
   "metadata": {},
   "outputs": [],
   "source": [
    "results5 = analyze_allison_scanner_2d(beamas1, density=False, filename=base_dir+'/AS02.png')\n",
    "print(results5)"
   ]
  },
  {
   "cell_type": "code",
   "execution_count": null,
   "id": "17",
   "metadata": {},
   "outputs": [],
   "source": [
    "filename6 = base_dir + '/' + '102829_Y.txt'\n",
    "beamas2 = beam_io.read_scanner(scanner='allison', filename=filename6)\n",
    "print(beamas2.scan_id)\n",
    "print(beamas2.describe())\n",
    "beamas2.data"
   ]
  },
  {
   "cell_type": "code",
   "execution_count": null,
   "id": "18",
   "metadata": {},
   "outputs": [],
   "source": [
    "results6 = analyze_allison_scanner_2d(beamas2, filename=base_dir+'/AS03.png')\n",
    "print(results6)"
   ]
  },
  {
   "cell_type": "code",
   "execution_count": null,
   "id": "19",
   "metadata": {},
   "outputs": [],
   "source": [
    "results6 = analyze_allison_scanner_2d(beamas2, density=False, filename=base_dir+'/AS04.png')\n",
    "print(results6)"
   ]
  },
  {
   "cell_type": "code",
   "execution_count": null,
   "id": "20",
   "metadata": {},
   "outputs": [],
   "source": []
  }
 ],
 "metadata": {
  "kernelspec": {
   "display_name": "synapticTrack",
   "language": "python",
   "name": "synaptictrack"
  },
  "language_info": {
   "codemirror_mode": {
    "name": "ipython",
    "version": 3
   },
   "file_extension": ".py",
   "mimetype": "text/x-python",
   "name": "python",
   "nbconvert_exporter": "python",
   "pygments_lexer": "ipython3",
   "version": "3.13.5"
  }
 },
 "nbformat": 4,
 "nbformat_minor": 5
}
