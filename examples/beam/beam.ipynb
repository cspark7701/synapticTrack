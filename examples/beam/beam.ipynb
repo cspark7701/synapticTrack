{
 "cells": [
  {
   "cell_type": "markdown",
   "id": "0",
   "metadata": {},
   "source": [
    "# Beam Class Examples"
   ]
  },
  {
   "cell_type": "code",
   "execution_count": 1,
   "id": "1",
   "metadata": {},
   "outputs": [],
   "source": [
    "from synapticTrack.beam import Beam, Twiss, BeamDataIO\n",
    "from synapticTrack.visualizations import *"
   ]
  },
  {
   "cell_type": "markdown",
   "id": "2",
   "metadata": {},
   "source": [
    "## Load beam distribution data"
   ]
  },
  {
   "cell_type": "code",
   "execution_count": 2,
   "id": "3",
   "metadata": {},
   "outputs": [],
   "source": [
    "base_dir = '../data/input_beam'\n",
    "filename = base_dir + '/' + 'coord.out'\n",
    "\n",
    "beam_io = BeamDataIO() \n",
    "beam = beam_io.read(code='track', filename=filename, mass_number=40, charge_state=8, beam_current=0, reference_energy=0.010)"
   ]
  },
  {
   "cell_type": "markdown",
   "id": "4",
   "metadata": {},
   "source": [
    "## Computing Twiss parameters"
   ]
  },
  {
   "cell_type": "code",
   "execution_count": 3,
   "id": "5",
   "metadata": {},
   "outputs": [
    {
     "name": "stdout",
     "output_type": "stream",
     "text": [
      "{'emittance': np.float64(12.976084729992449), 'alpha': np.float64(0.34789093047335745), 'beta': np.float64(1.1591415379851553), 'gamma': np.float64(0.9671192540077663)}\n",
      "{'emittance': np.float64(12.362026251027704), 'alpha': np.float64(0.6680767213237279), 'beta': np.float64(1.4076574770549386), 'gamma': np.float64(1.027470481384879)}\n",
      "{'emittance': np.float64(2.0982069992920863e-05), 'alpha': np.float64(0.012639617881774284), 'beta': np.float64(2414215.6635468956), 'gamma': np.float64(4.1427937654533796e-07)}\n"
     ]
    }
   ],
   "source": [
    "twiss = Twiss(beam)\n",
    "\n",
    "# View Twiss parameters\n",
    "print(twiss.values()['twiss_x'])\n",
    "print(twiss.values()['twiss_y'])\n",
    "print(twiss.values()['twiss_z'])"
   ]
  },
  {
   "cell_type": "code",
   "execution_count": 4,
   "id": "6",
   "metadata": {},
   "outputs": [
    {
     "data": {
      "text/plain": [
       "np.float64(12.976084729992449)"
      ]
     },
     "execution_count": 4,
     "metadata": {},
     "output_type": "execute_result"
    }
   ],
   "source": [
    "twiss.values()['twiss_x']['emittance']"
   ]
  },
  {
   "cell_type": "code",
   "execution_count": 5,
   "id": "7",
   "metadata": {},
   "outputs": [
    {
     "data": {
      "text/plain": [
       "{'emittance': np.float64(12.976084729992449),\n",
       " 'alpha': np.float64(0.34789093047335745),\n",
       " 'beta': np.float64(1.1591415379851553),\n",
       " 'gamma': np.float64(0.9671192540077663)}"
      ]
     },
     "execution_count": 5,
     "metadata": {},
     "output_type": "execute_result"
    }
   ],
   "source": [
    "twiss.horizontal"
   ]
  },
  {
   "cell_type": "code",
   "execution_count": 6,
   "id": "8",
   "metadata": {},
   "outputs": [
    {
     "data": {
      "text/plain": [
       "np.float64(1.1591415379851553)"
      ]
     },
     "execution_count": 6,
     "metadata": {},
     "output_type": "execute_result"
    }
   ],
   "source": [
    "twiss.horizontal['beta']"
   ]
  },
  {
   "cell_type": "markdown",
   "id": "9",
   "metadata": {},
   "source": [
    "## Computing Beam Centroid and RMS Beam Sizes"
   ]
  },
  {
   "cell_type": "code",
   "execution_count": 7,
   "id": "10",
   "metadata": {},
   "outputs": [
    {
     "data": {
      "text/plain": [
       "pandas.core.series.Series"
      ]
     },
     "execution_count": 7,
     "metadata": {},
     "output_type": "execute_result"
    }
   ],
   "source": [
    "type(beam.centroid)"
   ]
  },
  {
   "cell_type": "code",
   "execution_count": 8,
   "id": "11",
   "metadata": {},
   "outputs": [
    {
     "data": {
      "text/plain": [
       "x     1.436370e-02\n",
       "xp   -6.793702e-04\n",
       "y    -2.236773e-04\n",
       "yp   -2.694488e-05\n",
       "dt    1.361567e-01\n",
       "dW   -3.542379e-10\n",
       "dtype: float64"
      ]
     },
     "execution_count": 8,
     "metadata": {},
     "output_type": "execute_result"
    }
   ],
   "source": [
    "beam.centroid"
   ]
  },
  {
   "cell_type": "code",
   "execution_count": 9,
   "id": "12",
   "metadata": {},
   "outputs": [
    {
     "name": "stdout",
     "output_type": "stream",
     "text": [
      "0.014363704159584047 -0.0006793701859814089\n"
     ]
    }
   ],
   "source": [
    "print(beam.centroid['x'], beam.centroid['xp'])"
   ]
  },
  {
   "cell_type": "code",
   "execution_count": 10,
   "id": "13",
   "metadata": {},
   "outputs": [
    {
     "data": {
      "text/plain": [
       "pandas.core.series.Series"
      ]
     },
     "execution_count": 10,
     "metadata": {},
     "output_type": "execute_result"
    }
   ],
   "source": [
    "type(beam.rms_size)"
   ]
  },
  {
   "cell_type": "code",
   "execution_count": 11,
   "id": "14",
   "metadata": {},
   "outputs": [
    {
     "data": {
      "text/plain": [
       "x     3.878482\n",
       "xp    3.542693\n",
       "y     4.171719\n",
       "yp    3.564111\n",
       "dt    7.117605\n",
       "dW    0.000003\n",
       "dtype: float64"
      ]
     },
     "execution_count": 11,
     "metadata": {},
     "output_type": "execute_result"
    }
   ],
   "source": [
    "beam.rms_size"
   ]
  },
  {
   "cell_type": "code",
   "execution_count": 12,
   "id": "15",
   "metadata": {},
   "outputs": [
    {
     "data": {
      "text/plain": [
       "np.float64(3.8784820384823533)"
      ]
     },
     "execution_count": 12,
     "metadata": {},
     "output_type": "execute_result"
    }
   ],
   "source": [
    "beam.rms_size['x']"
   ]
  },
  {
   "cell_type": "code",
   "execution_count": 13,
   "id": "16",
   "metadata": {},
   "outputs": [
    {
     "name": "stdout",
     "output_type": "stream",
     "text": [
      "8 40 Ar8+ 0 10001\n"
     ]
    }
   ],
   "source": [
    "print(beam.charge_state, beam.mass_number, beam.species, beam.beam_current, beam.macroparticles)"
   ]
  },
  {
   "cell_type": "code",
   "execution_count": 14,
   "id": "17",
   "metadata": {},
   "outputs": [
    {
     "name": "stdout",
     "output_type": "stream",
     "text": [
      "<synapticTrack.beam.beam.Beam object at 0x71b0cf9afb60>\n"
     ]
    }
   ],
   "source": [
    "print(beam)"
   ]
  },
  {
   "cell_type": "code",
   "execution_count": null,
   "id": "933ff16b-40c9-4134-a952-ba496c3c2790",
   "metadata": {},
   "outputs": [],
   "source": []
  }
 ],
 "metadata": {
  "kernelspec": {
   "display_name": "synapticTrack",
   "language": "python",
   "name": "synaptictrack"
  },
  "language_info": {
   "codemirror_mode": {
    "name": "ipython",
    "version": 3
   },
   "file_extension": ".py",
   "mimetype": "text/x-python",
   "name": "python",
   "nbconvert_exporter": "python",
   "pygments_lexer": "ipython3",
   "version": "3.13.5"
  }
 },
 "nbformat": 4,
 "nbformat_minor": 5
}
