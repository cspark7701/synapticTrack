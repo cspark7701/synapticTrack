{
 "cells": [
  {
   "cell_type": "markdown",
   "id": "0",
   "metadata": {},
   "source": [
    "# Beam Class Examples"
   ]
  },
  {
   "cell_type": "code",
   "execution_count": 1,
   "id": "1",
   "metadata": {},
   "outputs": [],
   "source": [
    "from synapticTrack.beam import *\n",
    "from synapticTrack.io import *\n",
    "from synapticTrack.visualizations import *"
   ]
  },
  {
   "cell_type": "markdown",
   "id": "2",
   "metadata": {},
   "source": [
    "## Load beam distribution data"
   ]
  },
  {
   "cell_type": "code",
   "execution_count": 2,
   "id": "3",
   "metadata": {},
   "outputs": [],
   "source": [
    "base_dir = '../data/input_beam'\n",
    "filename = base_dir + '/' + 'coord.out'\n",
    "\n",
    "beam_io_manager = BeamDataIOManager() \n",
    "beam = beam_io_manager.read(code='track', filename=filename, mass_number=40, charge_state=8, beam_current=0, reference_energy=0.010)"
   ]
  },
  {
   "cell_type": "markdown",
   "id": "4",
   "metadata": {},
   "source": [
    "## Computing Twiss parameters"
   ]
  },
  {
   "cell_type": "code",
   "execution_count": 3,
   "id": "5",
   "metadata": {},
   "outputs": [
    {
     "name": "stdout",
     "output_type": "stream",
     "text": [
      "{'emittance': np.float64(12.976084729992449), 'alpha': np.float64(0.34789093047335745), 'beta': np.float64(1.1591415379851553), 'gamma': np.float64(0.9671192540077663)}\n",
      "{'emittance': np.float64(12.362026251027704), 'alpha': np.float64(0.6680767213237279), 'beta': np.float64(1.4076574770549386), 'gamma': np.float64(1.027470481384879)}\n",
      "{'emittance': np.float64(2.0982069992920863e-05), 'alpha': np.float64(0.012639617881774284), 'beta': np.float64(2414215.6635468956), 'gamma': np.float64(4.1427937654533796e-07)}\n"
     ]
    }
   ],
   "source": [
    "twiss = Twiss(beam)\n",
    "\n",
    "# View Twiss parameters\n",
    "print(twiss.values()['twiss_x'])\n",
    "print(twiss.values()['twiss_y'])\n",
    "print(twiss.values()['twiss_z'])"
   ]
  },
  {
   "cell_type": "code",
   "execution_count": 4,
   "id": "7",
   "metadata": {},
   "outputs": [
    {
     "data": {
      "text/plain": [
       "{'emittance': np.float64(12.976084729992449),\n",
       " 'alpha': np.float64(0.34789093047335745),\n",
       " 'beta': np.float64(1.1591415379851553),\n",
       " 'gamma': np.float64(0.9671192540077663)}"
      ]
     },
     "execution_count": 4,
     "metadata": {},
     "output_type": "execute_result"
    }
   ],
   "source": [
    "twiss.horizontal"
   ]
  },
  {
   "cell_type": "code",
   "execution_count": 5,
   "id": "8",
   "metadata": {},
   "outputs": [
    {
     "data": {
      "text/plain": [
       "np.float64(1.1591415379851553)"
      ]
     },
     "execution_count": 5,
     "metadata": {},
     "output_type": "execute_result"
    }
   ],
   "source": [
    "twiss.horizontal['beta']"
   ]
  },
  {
   "cell_type": "code",
   "execution_count": 6,
   "id": "d51c6743-ad98-4108-b50d-8068381a8684",
   "metadata": {},
   "outputs": [
    {
     "data": {
      "text/plain": [
       "np.float64(0.06012703398594483)"
      ]
     },
     "execution_count": 6,
     "metadata": {},
     "output_type": "execute_result"
    }
   ],
   "source": [
    "twiss.normalized_emittance('x')"
   ]
  },
  {
   "cell_type": "code",
   "execution_count": 8,
   "id": "6fef6c97-6cbc-4c5b-8f61-bae578baf5c2",
   "metadata": {},
   "outputs": [
    {
     "data": {
      "text/plain": [
       "{'x': np.float64(0.06012703398594483),\n",
       " 'y': np.float64(0.05728168303437993),\n",
       " 'z': np.float64(9.722421376024415e-08)}"
      ]
     },
     "execution_count": 8,
     "metadata": {},
     "output_type": "execute_result"
    }
   ],
   "source": [
    "twiss.normalized_emittances()"
   ]
  },
  {
   "cell_type": "markdown",
   "id": "9",
   "metadata": {},
   "source": [
    "## Computing Beam Centroid and RMS Beam Sizes"
   ]
  },
  {
   "cell_type": "code",
   "execution_count": 7,
   "id": "10",
   "metadata": {},
   "outputs": [
    {
     "data": {
      "text/plain": [
       "pandas.core.series.Series"
      ]
     },
     "execution_count": 7,
     "metadata": {},
     "output_type": "execute_result"
    }
   ],
   "source": [
    "type(beam.centroid)"
   ]
  },
  {
   "cell_type": "code",
   "execution_count": 8,
   "id": "11",
   "metadata": {},
   "outputs": [
    {
     "data": {
      "text/plain": [
       "x     1.436370e-02\n",
       "xp   -6.793702e-04\n",
       "y    -2.236773e-04\n",
       "yp   -2.694488e-05\n",
       "dt    1.361567e-01\n",
       "dW   -3.542379e-10\n",
       "dtype: float64"
      ]
     },
     "execution_count": 8,
     "metadata": {},
     "output_type": "execute_result"
    }
   ],
   "source": [
    "beam.centroid"
   ]
  },
  {
   "cell_type": "code",
   "execution_count": 9,
   "id": "12",
   "metadata": {},
   "outputs": [
    {
     "name": "stdout",
     "output_type": "stream",
     "text": [
      "0.014363704159584047 -0.0006793701859814089\n"
     ]
    }
   ],
   "source": [
    "print(beam.centroid['x'], beam.centroid['xp'])"
   ]
  },
  {
   "cell_type": "code",
   "execution_count": 10,
   "id": "13",
   "metadata": {},
   "outputs": [
    {
     "data": {
      "text/plain": [
       "pandas.core.series.Series"
      ]
     },
     "execution_count": 10,
     "metadata": {},
     "output_type": "execute_result"
    }
   ],
   "source": [
    "type(beam.rms_size)"
   ]
  },
  {
   "cell_type": "code",
   "execution_count": 11,
   "id": "14",
   "metadata": {},
   "outputs": [
    {
     "data": {
      "text/plain": [
       "x     3.878482\n",
       "xp    3.542693\n",
       "y     4.171719\n",
       "yp    3.564111\n",
       "dt    7.117605\n",
       "dW    0.000003\n",
       "dtype: float64"
      ]
     },
     "execution_count": 11,
     "metadata": {},
     "output_type": "execute_result"
    }
   ],
   "source": [
    "beam.rms_size"
   ]
  },
  {
   "cell_type": "code",
   "execution_count": 12,
   "id": "15",
   "metadata": {},
   "outputs": [
    {
     "data": {
      "text/plain": [
       "np.float64(3.8784820384823533)"
      ]
     },
     "execution_count": 12,
     "metadata": {},
     "output_type": "execute_result"
    }
   ],
   "source": [
    "beam.rms_size['x']"
   ]
  },
  {
   "cell_type": "code",
   "execution_count": 13,
   "id": "16",
   "metadata": {},
   "outputs": [
    {
     "name": "stdout",
     "output_type": "stream",
     "text": [
      "8 40 Ar8+ 0 10001\n"
     ]
    }
   ],
   "source": [
    "print(beam.charge_state, beam.mass_number, beam.species, beam.beam_current, beam.macroparticles)"
   ]
  },
  {
   "cell_type": "code",
   "execution_count": 14,
   "id": "17",
   "metadata": {},
   "outputs": [
    {
     "name": "stdout",
     "output_type": "stream",
     "text": [
      "<synapticTrack.beam.beam.Beam object at 0x762a5f460ad0>\n"
     ]
    }
   ],
   "source": [
    "print(beam)"
   ]
  },
  {
   "cell_type": "code",
   "execution_count": 15,
   "id": "933ff16b-40c9-4134-a952-ba496c3c2790",
   "metadata": {},
   "outputs": [
    {
     "data": {
      "text/html": [
       "<div>\n",
       "<style scoped>\n",
       "    .dataframe tbody tr th:only-of-type {\n",
       "        vertical-align: middle;\n",
       "    }\n",
       "\n",
       "    .dataframe tbody tr th {\n",
       "        vertical-align: top;\n",
       "    }\n",
       "\n",
       "    .dataframe thead th {\n",
       "        text-align: right;\n",
       "    }\n",
       "</style>\n",
       "<table border=\"1\" class=\"dataframe\">\n",
       "  <thead>\n",
       "    <tr style=\"text-align: right;\">\n",
       "      <th></th>\n",
       "      <th>Nseed</th>\n",
       "      <th>iq</th>\n",
       "      <th>dt</th>\n",
       "      <th>dW</th>\n",
       "      <th>x</th>\n",
       "      <th>xp</th>\n",
       "      <th>y</th>\n",
       "      <th>yp</th>\n",
       "    </tr>\n",
       "  </thead>\n",
       "  <tbody>\n",
       "    <tr>\n",
       "      <th>0</th>\n",
       "      <td>0</td>\n",
       "      <td>1</td>\n",
       "      <td>0.0000</td>\n",
       "      <td>-3.543100e-10</td>\n",
       "      <td>0.00000</td>\n",
       "      <td>0.000000</td>\n",
       "      <td>0.00000</td>\n",
       "      <td>0.00000</td>\n",
       "    </tr>\n",
       "    <tr>\n",
       "      <th>1</th>\n",
       "      <td>0</td>\n",
       "      <td>1</td>\n",
       "      <td>0.3688</td>\n",
       "      <td>-1.729900e-06</td>\n",
       "      <td>3.64630</td>\n",
       "      <td>0.009006</td>\n",
       "      <td>-5.48030</td>\n",
       "      <td>3.67950</td>\n",
       "    </tr>\n",
       "    <tr>\n",
       "      <th>2</th>\n",
       "      <td>0</td>\n",
       "      <td>1</td>\n",
       "      <td>-4.1981</td>\n",
       "      <td>-1.226300e-06</td>\n",
       "      <td>-0.49758</td>\n",
       "      <td>3.552800</td>\n",
       "      <td>-8.43420</td>\n",
       "      <td>2.40290</td>\n",
       "    </tr>\n",
       "    <tr>\n",
       "      <th>3</th>\n",
       "      <td>0</td>\n",
       "      <td>1</td>\n",
       "      <td>-6.1599</td>\n",
       "      <td>-2.726600e-06</td>\n",
       "      <td>-0.14469</td>\n",
       "      <td>3.064900</td>\n",
       "      <td>-4.52100</td>\n",
       "      <td>3.18300</td>\n",
       "    </tr>\n",
       "    <tr>\n",
       "      <th>4</th>\n",
       "      <td>0</td>\n",
       "      <td>1</td>\n",
       "      <td>-5.7163</td>\n",
       "      <td>-2.263800e-07</td>\n",
       "      <td>-5.69520</td>\n",
       "      <td>3.185900</td>\n",
       "      <td>0.89529</td>\n",
       "      <td>-2.47710</td>\n",
       "    </tr>\n",
       "    <tr>\n",
       "      <th>...</th>\n",
       "      <td>...</td>\n",
       "      <td>...</td>\n",
       "      <td>...</td>\n",
       "      <td>...</td>\n",
       "      <td>...</td>\n",
       "      <td>...</td>\n",
       "      <td>...</td>\n",
       "      <td>...</td>\n",
       "    </tr>\n",
       "    <tr>\n",
       "      <th>9996</th>\n",
       "      <td>0</td>\n",
       "      <td>1</td>\n",
       "      <td>9.7589</td>\n",
       "      <td>1.559600e-06</td>\n",
       "      <td>3.23200</td>\n",
       "      <td>-2.690800</td>\n",
       "      <td>2.83230</td>\n",
       "      <td>1.66500</td>\n",
       "    </tr>\n",
       "    <tr>\n",
       "      <th>9997</th>\n",
       "      <td>0</td>\n",
       "      <td>1</td>\n",
       "      <td>4.0432</td>\n",
       "      <td>-1.363000e-10</td>\n",
       "      <td>-4.31440</td>\n",
       "      <td>3.796700</td>\n",
       "      <td>1.05720</td>\n",
       "      <td>0.21555</td>\n",
       "    </tr>\n",
       "    <tr>\n",
       "      <th>9998</th>\n",
       "      <td>0</td>\n",
       "      <td>1</td>\n",
       "      <td>-2.9019</td>\n",
       "      <td>-1.613500e-06</td>\n",
       "      <td>3.23680</td>\n",
       "      <td>-5.662900</td>\n",
       "      <td>4.65420</td>\n",
       "      <td>-3.35200</td>\n",
       "    </tr>\n",
       "    <tr>\n",
       "      <th>9999</th>\n",
       "      <td>0</td>\n",
       "      <td>1</td>\n",
       "      <td>5.5605</td>\n",
       "      <td>3.090700e-06</td>\n",
       "      <td>-0.73726</td>\n",
       "      <td>3.854000</td>\n",
       "      <td>-3.29030</td>\n",
       "      <td>-4.44810</td>\n",
       "    </tr>\n",
       "    <tr>\n",
       "      <th>10000</th>\n",
       "      <td>0</td>\n",
       "      <td>1</td>\n",
       "      <td>2.3026</td>\n",
       "      <td>4.462700e-06</td>\n",
       "      <td>2.58360</td>\n",
       "      <td>-1.822900</td>\n",
       "      <td>-0.44803</td>\n",
       "      <td>3.79500</td>\n",
       "    </tr>\n",
       "  </tbody>\n",
       "</table>\n",
       "<p>10001 rows × 8 columns</p>\n",
       "</div>"
      ],
      "text/plain": [
       "       Nseed  iq      dt            dW        x        xp        y       yp\n",
       "0          0   1  0.0000 -3.543100e-10  0.00000  0.000000  0.00000  0.00000\n",
       "1          0   1  0.3688 -1.729900e-06  3.64630  0.009006 -5.48030  3.67950\n",
       "2          0   1 -4.1981 -1.226300e-06 -0.49758  3.552800 -8.43420  2.40290\n",
       "3          0   1 -6.1599 -2.726600e-06 -0.14469  3.064900 -4.52100  3.18300\n",
       "4          0   1 -5.7163 -2.263800e-07 -5.69520  3.185900  0.89529 -2.47710\n",
       "...      ...  ..     ...           ...      ...       ...      ...      ...\n",
       "9996       0   1  9.7589  1.559600e-06  3.23200 -2.690800  2.83230  1.66500\n",
       "9997       0   1  4.0432 -1.363000e-10 -4.31440  3.796700  1.05720  0.21555\n",
       "9998       0   1 -2.9019 -1.613500e-06  3.23680 -5.662900  4.65420 -3.35200\n",
       "9999       0   1  5.5605  3.090700e-06 -0.73726  3.854000 -3.29030 -4.44810\n",
       "10000      0   1  2.3026  4.462700e-06  2.58360 -1.822900 -0.44803  3.79500\n",
       "\n",
       "[10001 rows x 8 columns]"
      ]
     },
     "execution_count": 15,
     "metadata": {},
     "output_type": "execute_result"
    }
   ],
   "source": [
    "beam.state"
   ]
  },
  {
   "cell_type": "code",
   "execution_count": null,
   "id": "2199c8dc-4dde-4298-84d6-95e5ebb961ad",
   "metadata": {},
   "outputs": [],
   "source": []
  }
 ],
 "metadata": {
  "kernelspec": {
   "display_name": "synapticTrack",
   "language": "python",
   "name": "synaptictrack"
  },
  "language_info": {
   "codemirror_mode": {
    "name": "ipython",
    "version": 3
   },
   "file_extension": ".py",
   "mimetype": "text/x-python",
   "name": "python",
   "nbconvert_exporter": "python",
   "pygments_lexer": "ipython3",
   "version": "3.13.5"
  }
 },
 "nbformat": 4,
 "nbformat_minor": 5
}
