{
 "cells": [
  {
   "cell_type": "markdown",
   "id": "2212dfa8-6b6f-4ef2-96a8-854f8266e971",
   "metadata": {},
   "source": [
    "# Beam Class Examples"
   ]
  },
  {
   "cell_type": "code",
   "execution_count": 1,
   "id": "b6b40b8d-093d-4838-89eb-52fdf87bb14b",
   "metadata": {},
   "outputs": [],
   "source": [
    "from synapticTrack.beam import Beam, Twiss, BeamDataIO\n",
    "from synapticTrack.visualizations import *"
   ]
  },
  {
   "cell_type": "markdown",
   "id": "15fa39b9-b6ee-432e-a092-3f6eecfbdba2",
   "metadata": {},
   "source": [
    "## Load beam distribution data"
   ]
  },
  {
   "cell_type": "code",
   "execution_count": 2,
   "id": "860dd0a9-6997-400d-b816-e19e8dce361b",
   "metadata": {},
   "outputs": [],
   "source": [
    "base_dir = '../data/input_beam'\n",
    "filename = base_dir + '/' + 'coord.out'\n",
    "\n",
    "beam_io = BeamDataIO() \n",
    "beam = beam_io.read(code='track', filename=filename, mass_number=40, charge_state=8, beam_current=0)"
   ]
  },
  {
   "cell_type": "markdown",
   "id": "e11e9478-2aa4-42af-802b-68bc799aecd8",
   "metadata": {},
   "source": [
    "## Computing Twiss parameters"
   ]
  },
  {
   "cell_type": "code",
   "execution_count": 3,
   "id": "80bd27a3-95a8-4875-878b-aeb5cf8982a0",
   "metadata": {},
   "outputs": [
    {
     "name": "stdout",
     "output_type": "stream",
     "text": [
      "{'emittance': np.float64(12.976084729992449), 'alpha': np.float64(0.34789093047335745), 'beta': np.float64(1.1591415379851553), 'gamma': np.float64(0.9671192540077663)}\n",
      "{'emittance': np.float64(12.362026251027704), 'alpha': np.float64(0.6680767213237279), 'beta': np.float64(1.4076574770549386), 'gamma': np.float64(1.027470481384879)}\n",
      "{'emittance': np.float64(2.0982069992920863e-05), 'alpha': np.float64(0.012639617881774284), 'beta': np.float64(2414215.6635468956), 'gamma': np.float64(4.1427937654533796e-07)}\n"
     ]
    }
   ],
   "source": [
    "twiss = Twiss(beam)\n",
    "\n",
    "# View Twiss parameters\n",
    "print(twiss.values()['twiss_x'])\n",
    "print(twiss.values()['twiss_y'])\n",
    "print(twiss.values()['twiss_z'])"
   ]
  },
  {
   "cell_type": "code",
   "execution_count": 4,
   "id": "c3891262-b6e8-4ea0-821c-9498942c02a7",
   "metadata": {},
   "outputs": [
    {
     "data": {
      "text/plain": [
       "np.float64(12.976084729992449)"
      ]
     },
     "execution_count": 4,
     "metadata": {},
     "output_type": "execute_result"
    }
   ],
   "source": [
    "twiss.values()['twiss_x']['emittance']"
   ]
  },
  {
   "cell_type": "code",
   "execution_count": 5,
   "id": "0cd289ec-52d5-4633-b9f1-d712e63e7727",
   "metadata": {},
   "outputs": [
    {
     "data": {
      "text/plain": [
       "{'emittance': np.float64(12.976084729992449),\n",
       " 'alpha': np.float64(0.34789093047335745),\n",
       " 'beta': np.float64(1.1591415379851553),\n",
       " 'gamma': np.float64(0.9671192540077663)}"
      ]
     },
     "execution_count": 5,
     "metadata": {},
     "output_type": "execute_result"
    }
   ],
   "source": [
    "twiss.horizontal"
   ]
  },
  {
   "cell_type": "code",
   "execution_count": 6,
   "id": "e6c3601c-8bf0-408f-992a-64cf86954d39",
   "metadata": {},
   "outputs": [
    {
     "data": {
      "text/plain": [
       "np.float64(1.1591415379851553)"
      ]
     },
     "execution_count": 6,
     "metadata": {},
     "output_type": "execute_result"
    }
   ],
   "source": [
    "twiss.horizontal['beta']"
   ]
  },
  {
   "cell_type": "markdown",
   "id": "d6d30a42-0cf1-407a-905d-e9f135b6583e",
   "metadata": {},
   "source": [
    "## Computing Beam Centroid and RMS Beam Sizes"
   ]
  },
  {
   "cell_type": "code",
   "execution_count": 7,
   "id": "3be2d2fd-f43f-4a1e-ab82-ff6c44be839a",
   "metadata": {},
   "outputs": [
    {
     "data": {
      "text/plain": [
       "pandas.core.series.Series"
      ]
     },
     "execution_count": 7,
     "metadata": {},
     "output_type": "execute_result"
    }
   ],
   "source": [
    "type(beam.centroid)"
   ]
  },
  {
   "cell_type": "code",
   "execution_count": 8,
   "id": "f8c169ab-601f-4be1-8620-915b97317f6b",
   "metadata": {},
   "outputs": [
    {
     "data": {
      "text/plain": [
       "x     1.436370e-02\n",
       "xp   -6.793702e-04\n",
       "y    -2.236773e-04\n",
       "yp   -2.694488e-05\n",
       "dt    1.361567e-01\n",
       "dW   -3.542379e-10\n",
       "dtype: float64"
      ]
     },
     "execution_count": 8,
     "metadata": {},
     "output_type": "execute_result"
    }
   ],
   "source": [
    "beam.centroid"
   ]
  },
  {
   "cell_type": "code",
   "execution_count": 9,
   "id": "01b59bab-4455-4dea-859f-97d1ea1cb1ee",
   "metadata": {},
   "outputs": [
    {
     "name": "stdout",
     "output_type": "stream",
     "text": [
      "0.014363704159584047 -0.0006793701859814089\n"
     ]
    }
   ],
   "source": [
    "print(beam.centroid['x'], beam.centroid['xp'])"
   ]
  },
  {
   "cell_type": "code",
   "execution_count": 10,
   "id": "4db103a1-9f7e-4107-a35a-9913b2e4dad4",
   "metadata": {},
   "outputs": [
    {
     "data": {
      "text/plain": [
       "pandas.core.series.Series"
      ]
     },
     "execution_count": 10,
     "metadata": {},
     "output_type": "execute_result"
    }
   ],
   "source": [
    "type(beam.rms_size)"
   ]
  },
  {
   "cell_type": "code",
   "execution_count": 11,
   "id": "1624875b-30f2-4228-b677-2e87fb1ec6b5",
   "metadata": {},
   "outputs": [
    {
     "data": {
      "text/plain": [
       "x     3.878482\n",
       "xp    3.542693\n",
       "y     4.171719\n",
       "yp    3.564111\n",
       "dt    7.117605\n",
       "dW    0.000003\n",
       "dtype: float64"
      ]
     },
     "execution_count": 11,
     "metadata": {},
     "output_type": "execute_result"
    }
   ],
   "source": [
    "beam.rms_size"
   ]
  },
  {
   "cell_type": "code",
   "execution_count": 12,
   "id": "9b1aa570-0dbc-4ea0-8b27-a5c4909abf6c",
   "metadata": {},
   "outputs": [
    {
     "data": {
      "text/plain": [
       "np.float64(3.8784820384823533)"
      ]
     },
     "execution_count": 12,
     "metadata": {},
     "output_type": "execute_result"
    }
   ],
   "source": [
    "beam.rms_size['x']"
   ]
  },
  {
   "cell_type": "code",
   "execution_count": 13,
   "id": "d04fd578-77c2-477f-9097-6bfe0bc5b39d",
   "metadata": {},
   "outputs": [
    {
     "name": "stdout",
     "output_type": "stream",
     "text": [
      "8 40 Ar8+ 0 10001\n"
     ]
    }
   ],
   "source": [
    "print(beam.charge_state, beam.mass_number, beam.species, beam.beam_current, beam.macroparticles)"
   ]
  },
  {
   "cell_type": "code",
   "execution_count": 14,
   "id": "ac767ea3-22ed-409a-b016-c89f638ee4d9",
   "metadata": {},
   "outputs": [
    {
     "name": "stdout",
     "output_type": "stream",
     "text": [
      "<synapticTrack.beam.beam.Beam object at 0x7462fa0bd710>\n"
     ]
    }
   ],
   "source": [
    "print(beam)"
   ]
  },
  {
   "cell_type": "code",
   "execution_count": null,
   "id": "533d2deb-4cdd-4907-8eee-4fdd35b90cb1",
   "metadata": {},
   "outputs": [],
   "source": []
  }
 ],
 "metadata": {
  "kernelspec": {
   "display_name": "synapticTrack",
   "language": "python",
   "name": "synaptictrack"
  },
  "language_info": {
   "codemirror_mode": {
    "name": "ipython",
    "version": 3
   },
   "file_extension": ".py",
   "mimetype": "text/x-python",
   "name": "python",
   "nbconvert_exporter": "python",
   "pygments_lexer": "ipython3",
   "version": "3.11.9"
  }
 },
 "nbformat": 4,
 "nbformat_minor": 5
}
